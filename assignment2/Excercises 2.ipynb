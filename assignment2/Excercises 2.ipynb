{
 "cells": [
  {
   "cell_type": "markdown",
   "metadata": {},
   "source": [
    "Write a function translate() that will translate a text into \"rövarspråket\" (Swedish for \"robber's language\"). That is, double every consonant and place an occurrence of \"o\" in between. For example, translate(\"this is fun\") should return the string \"tothohisos isos fofunon\"."
   ]
  },
  {
   "cell_type": "code",
   "execution_count": 1,
   "metadata": {},
   "outputs": [
    {
     "name": "stdout",
     "output_type": "stream",
     "text": [
      "hohelollolo o gogoodod o momorornoninongog\n"
     ]
    }
   ],
   "source": [
    "def transalte(string):\n",
    "    temp = \"\"\n",
    "    for i in string:\n",
    "        if i in \"aeiou\":\n",
    "            temp+= str(i)\n",
    "        else: \n",
    "           temp+= str(i) + str('o') + str(i)\n",
    "    return temp\n",
    "\n",
    "print(transalte(\"hello good morning\"))\n",
    "            "
   ]
  },
  {
   "cell_type": "markdown",
   "metadata": {},
   "source": [
    "Define a function sum() and a function multiply() that sums and multiplies (respectively) all the numbers in a list of numbers. For example, sum([1, 2, 3, 4]) should return 10, and multiply([1, 2, 3, 4]) should return 24"
   ]
  },
  {
   "cell_type": "code",
   "execution_count": 6,
   "metadata": {},
   "outputs": [
    {
     "name": "stdout",
     "output_type": "stream",
     "text": [
      "10\n",
      "24\n"
     ]
    }
   ],
   "source": [
    "def sum(ls):\n",
    "    res = 0\n",
    "    for i in ls: \n",
    "      res += i\n",
    "    return res\n",
    "\n",
    "def multiply(ls):\n",
    "     res = 1\n",
    "     for i in ls:\n",
    "         res *= i\n",
    "     return res\n",
    "\n",
    "print(sum([1,2,3,4]))\n",
    "print(multiply([1,2,3,4]))"
   ]
  },
  {
   "cell_type": "markdown",
   "metadata": {},
   "source": [
    "**Define a function reverse() that computes the reversal of a string. For example, reverse(\"I am testing\") should return the string \"gnitset ma I**"
   ]
  },
  {
   "cell_type": "code",
   "execution_count": 8,
   "metadata": {},
   "outputs": [
    {
     "name": "stdout",
     "output_type": "stream",
     "text": [
      "gninrom doog\n"
     ]
    }
   ],
   "source": [
    "def reverse(string):\n",
    "    return string[::-1]\n",
    "\n",
    "print(reverse(\"good morning\"))"
   ]
  },
  {
   "cell_type": "markdown",
   "metadata": {},
   "source": [
    "**Define a function is_palindrome() that recognizes palindromes (i.e. words that look the same written backwards). For example, is_palindrome(\"radar\") should return True.**"
   ]
  },
  {
   "cell_type": "code",
   "execution_count": 10,
   "metadata": {},
   "outputs": [
    {
     "name": "stdout",
     "output_type": "stream",
     "text": [
      "True\n",
      "False\n"
     ]
    }
   ],
   "source": [
    "def is_pallindrome(string):\n",
    "    s1 = string[::-1]\n",
    "    if s1==string:\n",
    "         return True\n",
    "    else:\n",
    "        return False\n",
    "\n",
    "print(is_pallindrome(\"radar\"))\n",
    "print(is_pallindrome(\"hello\"))"
   ]
  },
  {
   "cell_type": "markdown",
   "metadata": {},
   "source": [
    "**Write a function is_member() that takes a value (i.e. a number, string, etc) x and a list of values a, and returns True if x is a member of a, False otherwise.**"
   ]
  },
  {
   "cell_type": "code",
   "execution_count": 12,
   "metadata": {},
   "outputs": [
    {
     "name": "stdout",
     "output_type": "stream",
     "text": [
      "True\n",
      "False\n",
      "True\n"
     ]
    }
   ],
   "source": [
    "def is_member(a, x):\n",
    "    if x in a:\n",
    "         return True\n",
    "    else: \n",
    "       return False\n",
    "\n",
    "print(is_member([1,2,3,4], 3))\n",
    "print(is_member([1,2,3,4], 6))\n",
    "print(is_member([\"nilesh\", \"prajapat\", \"hello\"], \"hello\"))\n",
    "      \n",
    "   "
   ]
  },
  {
   "cell_type": "markdown",
   "metadata": {},
   "source": [
    "**Define a function overlapping() that takes two lists and returns True if they have at least one member in common, False otherwise. You may use your is_member() function, or the in operator, but for the sake of the exercise, you should (also) write it using two nested for-loops.**"
   ]
  },
  {
   "cell_type": "code",
   "execution_count": 14,
   "metadata": {},
   "outputs": [
    {
     "name": "stdout",
     "output_type": "stream",
     "text": [
      "True\n",
      "False\n"
     ]
    }
   ],
   "source": [
    "def overlapping(ls1, ls2):\n",
    "    for i in ls1:\n",
    "        for j in ls2:\n",
    "            if i==j:\n",
    "                return True\n",
    "    return False\n",
    "\n",
    "print(overlapping([1,2,3,4],[6,5,4]))\n",
    "print(overlapping([1,2,3,4],[9,8,7]))    "
   ]
  },
  {
   "cell_type": "code",
   "execution_count": 30,
   "metadata": {},
   "outputs": [
    {
     "data": {
      "text/plain": [
       "False"
      ]
     },
     "execution_count": 30,
     "metadata": {},
     "output_type": "execute_result"
    }
   ],
   "source": [
    "overlapping([1,2,3],[4,5,6])"
   ]
  },
  {
   "cell_type": "markdown",
   "metadata": {},
   "source": [
    "# *Define a procedure histogram() that takes a list of integers and prints a histogram to the screen. For example, histogram([4, 9, 7]) should print the following:*(click on next cell to see)\n"
   ]
  },
  {
   "cell_type": "markdown",
   "metadata": {},
   "source": [
    "\n",
    "****\n",
    "*********\n",
    "*******"
   ]
  },
  {
   "cell_type": "code",
   "execution_count": 16,
   "metadata": {},
   "outputs": [],
   "source": [
    "def histogram(ls):\n",
    "    for i in ls:\n",
    "        print(\"*\" * i)"
   ]
  },
  {
   "cell_type": "code",
   "execution_count": 33,
   "metadata": {},
   "outputs": [
    {
     "name": "stdout",
     "output_type": "stream",
     "text": [
      "*\n",
      "*****\n",
      "*******\n"
     ]
    }
   ],
   "source": [
    "histogram([1,5,7])"
   ]
  },
  {
   "cell_type": "markdown",
   "metadata": {},
   "source": [
    "**Write a function char_freq() that takes a string and builds a frequency listing of the characters contained in it. Represent the frequency listing as a Python dictionary. Try it with something like char_freq(\"abbabcbdbabdbdbabababcbcbab\").**\n",
    "\n"
   ]
  },
  {
   "cell_type": "code",
   "execution_count": 17,
   "metadata": {},
   "outputs": [],
   "source": [
    "def char_freq(s):\n",
    "    s1=set(s)\n",
    "    d={}\n",
    "    for i in s1:\n",
    "        count=0\n",
    "        for j in range(len(s)):\n",
    "            if i==s[j]:\n",
    "             count+=1\n",
    "        d.update({i:count})\n",
    "    return d\n",
    "        "
   ]
  },
  {
   "cell_type": "code",
   "execution_count": 83,
   "metadata": {},
   "outputs": [
    {
     "data": {
      "text/plain": [
       "{'d': 3, 'b': 14, 'c': 3, 'a': 7}"
      ]
     },
     "execution_count": 83,
     "metadata": {},
     "output_type": "execute_result"
    }
   ],
   "source": [
    "char_freq(\"abbabcbdbabdbdbabababcbcbab\")"
   ]
  },
  {
   "cell_type": "markdown",
   "metadata": {},
   "source": [
    "**Write a program able to play the \"Guess the number\"-game, where the number to be guessed is randomly chosen between 1 and 20. (Source: http://inventwithpython.com) This is how it should work when run in a terminal:\n",
    "\n",
    "Hello! What is your name?\n",
    "Torbjörn\n",
    "Well, Torbjörn, I am thinking of a number between 1 and 20.\n",
    "Take a guess.\n",
    "10\n",
    "Your guess is too low.\n",
    "Take a guess.\n",
    "15\n",
    "Your guess is too low.\n",
    "Take a guess.\n",
    "18\n",
    "Good job, Torbjörn! You guessed my number in 3 guesses!***"
   ]
  },
  {
   "cell_type": "code",
   "execution_count": 18,
   "metadata": {},
   "outputs": [
    {
     "name": "stdout",
     "output_type": "stream",
     "text": [
      "Well, nilesh, I am thinking of a number between 1 and 20.\n",
      "2 Your guess is too low.\n",
      "15 Your guess is too low.\n",
      "2 Your guess is too low.\n",
      "2 Your guess is too low.\n",
      "2 Your guess is too low.\n",
      "2 Your guess is too low.\n",
      "2 Your guess is too low.\n",
      "2 Your guess is too low.\n",
      "2 Your guess is too low.\n",
      "3 Your guess is too low.\n",
      "5 Your guess is too low.\n",
      "3 Your guess is too low.\n",
      "4 Your guess is too low.\n",
      "5 Your guess is too low.\n",
      "6 Your guess is too low.\n",
      "4 Your guess is too low.\n",
      "5 Your guess is too low.\n",
      "6 Your guess is too low.\n",
      "5 Your guess is too low.\n",
      "12 Your guess is too low.\n",
      "1 Your guess is too low.\n",
      "1 Your guess is too low.\n",
      "12 Your guess is too low.\n",
      "13 Your guess is too low.\n",
      "14 Your guess is too low.\n",
      "15 Your guess is too low.\n",
      "16 Your guess is too low.\n",
      "16 Your guess is too low.\n",
      "Good job, nilesh! You guessed my number in 29 guesses!\n"
     ]
    }
   ],
   "source": [
    "import random\n",
    "name = input(\"Hello! What is your name?\")\n",
    "print(\"Well, {}, I am thinking of a number between 1 and 20.\".format(name))\n",
    "num = random.randint(1,20)\n",
    "guess = int(input(\"Take a guess: \"))\n",
    "count = 0\n",
    "\n",
    "while True:\n",
    "  \n",
    "    if num == guess:\n",
    "        count+=1\n",
    "        print(\"Good job, {}! You guessed my number in {} guesses!\".format(name,count))\n",
    "        break\n",
    "    elif num > guess:\n",
    "        print(\"{} Your guess is too low.\".format(guess))\n",
    "        guess = int(input(\"Take a guess: \"))\n",
    "        count+=1\n",
    "    elif num < guess:\n",
    "        print(\"{} Your guess is too high.\".format(guess))\n",
    "        guess = int(input(\"Take a guess: \"))\n",
    "        count+=1\n",
    "        \n"
   ]
  },
  {
   "cell_type": "markdown",
   "metadata": {},
   "source": [
    "***Write a program that maps a list of words into a list of integers representing the lengths of the correponding words.***\n"
   ]
  },
  {
   "cell_type": "code",
   "execution_count": 19,
   "metadata": {},
   "outputs": [],
   "source": [
    "def map_int(ls):\n",
    "    length = []\n",
    "    for i in ls:\n",
    "       length.append(len(i))\n",
    "    return length"
   ]
  },
  {
   "cell_type": "code",
   "execution_count": 91,
   "metadata": {},
   "outputs": [
    {
     "data": {
      "text/plain": [
       "[2, 3, 4, 7]"
      ]
     },
     "execution_count": 91,
     "metadata": {},
     "output_type": "execute_result"
    }
   ],
   "source": [
    "map_int(['te','tes','test','testing'])"
   ]
  },
  {
   "cell_type": "code",
   "execution_count": 22,
   "metadata": {},
   "outputs": [
    {
     "data": {
      "text/plain": [
       "['', 5, 5]"
      ]
     },
     "execution_count": 22,
     "metadata": {},
     "output_type": "execute_result"
    }
   ],
   "source": [
    "map_int([\"hello\", \"world\"])"
   ]
  }
 ],
 "metadata": {
  "kernelspec": {
   "display_name": "Python 3",
   "language": "python",
   "name": "python3"
  },
  "language_info": {
   "codemirror_mode": {
    "name": "ipython",
    "version": 3
   },
   "file_extension": ".py",
   "mimetype": "text/x-python",
   "name": "python",
   "nbconvert_exporter": "python",
   "pygments_lexer": "ipython3",
   "version": "3.11.1"
  },
  "vscode": {
   "interpreter": {
    "hash": "74cc819deff76c29e4928f7ff26e3eddcbba8fed33adfaaa19de16534a73accc"
   }
  }
 },
 "nbformat": 4,
 "nbformat_minor": 2
}
